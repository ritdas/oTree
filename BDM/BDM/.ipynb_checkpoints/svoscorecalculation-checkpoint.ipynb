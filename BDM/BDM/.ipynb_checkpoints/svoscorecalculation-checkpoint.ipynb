{
 "cells": [
  {
   "cell_type": "markdown",
   "metadata": {},
   "source": [
    "<h1>SVO score calculating function</h1>"
   ]
  },
  {
   "cell_type": "code",
   "execution_count": 1,
   "metadata": {
    "collapsed": true
   },
   "outputs": [],
   "source": [
    "import csv\n",
    "ifile = open('svoall.csv', 'rt')\n",
    "alloc = []\n",
    "try:\n",
    "    reader = csv.reader(ifile)\n",
    "    for row in reader:\n",
    "        alloc.append(list(map(int,row)))\n",
    "\n",
    "finally:\n",
    "    ifile.close()\n"
   ]
  },
  {
   "cell_type": "code",
   "execution_count": 2,
   "metadata": {
    "collapsed": true
   },
   "outputs": [],
   "source": [
    "import numpy\n",
    "alloct=numpy.transpose(alloc)"
   ]
  },
  {
   "cell_type": "code",
   "execution_count": 27,
   "metadata": {},
   "outputs": [
    {
     "data": {
      "text/plain": [
       "array([[ 85,  85,  85,  85,  85,  85,  85,  85,  85],\n",
       "       [ 85,  76,  68,  59,  50,  41,  33,  24,  15],\n",
       "       [ 85,  87,  89,  91,  93,  94,  96,  98, 100],\n",
       "       [ 15,  19,  24,  28,  33,  37,  41,  46,  50],\n",
       "       [ 50,  54,  59,  63,  68,  72,  76,  81,  85],\n",
       "       [100,  98,  96,  94,  93,  91,  89,  87,  85],\n",
       "       [ 50,  54,  59,  63,  68,  72,  76,  81,  85],\n",
       "       [100,  89,  79,  68,  58,  47,  36,  26,  15],\n",
       "       [100,  94,  88,  81,  75,  69,  63,  56,  50],\n",
       "       [ 50,  56,  63,  69,  75,  81,  88,  94, 100],\n",
       "       [100,  98,  96,  94,  93,  91,  89,  87,  85],\n",
       "       [ 50,  54,  59,  63,  68,  72,  76,  81,  85]])"
      ]
     },
     "execution_count": 27,
     "metadata": {},
     "output_type": "execute_result"
    }
   ],
   "source": [
    "alloct"
   ]
  },
  {
   "cell_type": "code",
   "execution_count": 53,
   "metadata": {},
   "outputs": [
    {
     "data": {
      "text/plain": [
       "[100, 50]"
      ]
     },
     "execution_count": 53,
     "metadata": {},
     "output_type": "execute_result"
    }
   ],
   "source": [
    "# if al5 = 5\n",
    "i=5\n",
    "j=9\n",
    "[alloct[2*(i-1)][j-1],alloct[2*(i-1)+1][j-1]]"
   ]
  },
  {
   "cell_type": "code",
   "execution_count": 49,
   "metadata": {},
   "outputs": [
    {
     "data": {
      "text/plain": [
       "[85, 15]"
      ]
     },
     "execution_count": 49,
     "metadata": {},
     "output_type": "execute_result"
    }
   ],
   "source": [
    "[alloc[j-1][2*(i-1)],alloc[j-1][2*(i-1)+1]]"
   ]
  },
  {
   "cell_type": "code",
   "execution_count": 3,
   "metadata": {
    "collapsed": true
   },
   "outputs": [],
   "source": [
    "jtable=[3,4,6,3,3,9] # [al1,al2,...,al6]\n",
    "sum1=0\n",
    "sum2=0\n",
    "for i in range(0,6):\n",
    "    sum1=sum1+alloc[jtable[i]-1][2*(i)]\n",
    "    sum2=sum2+alloc[jtable[i]-1][2*(i)+1]\n",
    "mean1=sum1/6-50\n",
    "mean2=sum2/6-50"
   ]
  },
  {
   "cell_type": "code",
   "execution_count": 98,
   "metadata": {},
   "outputs": [
    {
     "data": {
      "text/plain": [
       "37.482411427718468"
      ]
     },
     "execution_count": 98,
     "metadata": {},
     "output_type": "execute_result"
    }
   ],
   "source": [
    "# jtable=[1,9,9,4,5,9]\n",
    "numpy.arctan(((85+50+85+68+75+85)/6-50)/((85+100+85+63+75+85)/6-50))*180/numpy.pi"
   ]
  },
  {
   "cell_type": "code",
   "execution_count": 4,
   "metadata": {
    "collapsed": true
   },
   "outputs": [],
   "source": [
    "svoscore = numpy.arctan(mean2/mean1)*180/numpy.pi"
   ]
  },
  {
   "cell_type": "code",
   "execution_count": 5,
   "metadata": {},
   "outputs": [
    {
     "data": {
      "text/plain": [
       "32.347443499442029"
      ]
     },
     "execution_count": 5,
     "metadata": {},
     "output_type": "execute_result"
    }
   ],
   "source": [
    "svoscore"
   ]
  },
  {
   "cell_type": "code",
   "execution_count": null,
   "metadata": {
    "collapsed": true
   },
   "outputs": [],
   "source": []
  }
 ],
 "metadata": {
  "kernelspec": {
   "display_name": "Python 3",
   "language": "python",
   "name": "python3"
  },
  "language_info": {
   "codemirror_mode": {
    "name": "ipython",
    "version": 3
   },
   "file_extension": ".py",
   "mimetype": "text/x-python",
   "name": "python",
   "nbconvert_exporter": "python",
   "pygments_lexer": "ipython3",
   "version": "3.6.4"
  }
 },
 "nbformat": 4,
 "nbformat_minor": 2
}
